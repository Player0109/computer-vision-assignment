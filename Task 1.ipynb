{
 "cells": [
  {
   "cell_type": "code",
   "execution_count": 1,
   "metadata": {},
   "outputs": [],
   "source": [
    "import numpy as np\n",
    "import pandas as pd\n",
    "import matplotlib.pyplot as plt\n",
    "import seaborn as sns\n",
    "import random\n",
    "import emoji\n",
    "from tensorflow.keras.preprocessing.text import Tokenizer\n",
    "from tensorflow.keras.preprocessing.sequence import pad_sequences\n",
    "from nltk.tokenize import WordPunctTokenizer\n",
    "from bs4 import BeautifulSoup\n",
    "import re\n",
    "from html import unescape\n",
    "from tqdm import trange\n",
    "import warnings\n",
    "from nltk.corpus import stopwords\n",
    "from nltk.stem import WordNetLemmatizer\n",
    "from sklearn.metrics import classification_report, confusion_matrix, matthews_corrcoef\n",
    "warnings.filterwarnings(\"ignore\")\n",
    "\n",
    "%matplotlib inline"
   ]
  },
  {
   "cell_type": "code",
   "execution_count": 2,
   "metadata": {},
   "outputs": [
    {
     "name": "stdout",
     "output_type": "stream",
     "text": [
      "Shape of Dataset =  (86461, 2)\n"
     ]
    },
    {
     "data": {
      "text/html": [
       "<div>\n",
       "<style scoped>\n",
       "    .dataframe tbody tr th:only-of-type {\n",
       "        vertical-align: middle;\n",
       "    }\n",
       "\n",
       "    .dataframe tbody tr th {\n",
       "        vertical-align: top;\n",
       "    }\n",
       "\n",
       "    .dataframe thead th {\n",
       "        text-align: right;\n",
       "    }\n",
       "</style>\n",
       "<table border=\"1\" class=\"dataframe\">\n",
       "  <thead>\n",
       "    <tr style=\"text-align: right;\">\n",
       "      <th></th>\n",
       "      <th>Class</th>\n",
       "      <th>Text</th>\n",
       "    </tr>\n",
       "  </thead>\n",
       "  <tbody>\n",
       "    <tr>\n",
       "      <th>0</th>\n",
       "      <td>1</td>\n",
       "      <td>Today, Senate Dems vote to #SaveTheInternet. P...</td>\n",
       "    </tr>\n",
       "    <tr>\n",
       "      <th>1</th>\n",
       "      <td>1</td>\n",
       "      <td>RT @WinterHavenSun: Winter Haven resident / Al...</td>\n",
       "    </tr>\n",
       "    <tr>\n",
       "      <th>2</th>\n",
       "      <td>1</td>\n",
       "      <td>RT @NBCLatino: .@RepDarrenSoto noted that Hurr...</td>\n",
       "    </tr>\n",
       "    <tr>\n",
       "      <th>3</th>\n",
       "      <td>1</td>\n",
       "      <td>RT @NALCABPolicy: Meeting with @RepDarrenSoto ...</td>\n",
       "    </tr>\n",
       "    <tr>\n",
       "      <th>4</th>\n",
       "      <td>1</td>\n",
       "      <td>RT @Vegalteno: Hurricane season starts on June...</td>\n",
       "    </tr>\n",
       "    <tr>\n",
       "      <th>5</th>\n",
       "      <td>1</td>\n",
       "      <td>RT @EmgageActionFL: Thank you to all who came ...</td>\n",
       "    </tr>\n",
       "    <tr>\n",
       "      <th>6</th>\n",
       "      <td>1</td>\n",
       "      <td>Hurricane Maria left approx $90 billion in dam...</td>\n",
       "    </tr>\n",
       "    <tr>\n",
       "      <th>7</th>\n",
       "      <td>1</td>\n",
       "      <td>RT @Tharryry: I am delighted that @RepDarrenSo...</td>\n",
       "    </tr>\n",
       "    <tr>\n",
       "      <th>8</th>\n",
       "      <td>1</td>\n",
       "      <td>RT @HispanicCaucus: Trump's anti-immigrant pol...</td>\n",
       "    </tr>\n",
       "    <tr>\n",
       "      <th>9</th>\n",
       "      <td>1</td>\n",
       "      <td>RT @RepStephMurphy: Great joining @WeAreUnidos...</td>\n",
       "    </tr>\n",
       "  </tbody>\n",
       "</table>\n",
       "</div>"
      ],
      "text/plain": [
       "  Class                                               Text\n",
       "0     1  Today, Senate Dems vote to #SaveTheInternet. P...\n",
       "1     1  RT @WinterHavenSun: Winter Haven resident / Al...\n",
       "2     1  RT @NBCLatino: .@RepDarrenSoto noted that Hurr...\n",
       "3     1  RT @NALCABPolicy: Meeting with @RepDarrenSoto ...\n",
       "4     1  RT @Vegalteno: Hurricane season starts on June...\n",
       "5     1  RT @EmgageActionFL: Thank you to all who came ...\n",
       "6     1  Hurricane Maria left approx $90 billion in dam...\n",
       "7     1  RT @Tharryry: I am delighted that @RepDarrenSo...\n",
       "8     1  RT @HispanicCaucus: Trump's anti-immigrant pol...\n",
       "9     1  RT @RepStephMurphy: Great joining @WeAreUnidos..."
      ]
     },
     "execution_count": 2,
     "metadata": {},
     "output_type": "execute_result"
    }
   ],
   "source": [
    "df = pd.read_csv('CVAssignmentDataset.csv') # Importing The Dataset\n",
    "print('Shape of Dataset = ', df.shape) # Printing The Dataset\n",
    "df.head(10) # Showing the first 10 rows of the dataset"
   ]
  },
  {
   "cell_type": "code",
   "execution_count": 3,
   "metadata": {},
   "outputs": [],
   "source": [
    "vocab_size = 10000 # Vocabulary Size\n",
    "max_len = 50 # Max Length of the Sequence"
   ]
  },
  {
   "cell_type": "code",
   "execution_count": 4,
   "metadata": {},
   "outputs": [],
   "source": [
    "def dataset_clean(df):\n",
    "    df = df[ df['Class']!='https://t.co/sbSljdw1Zw' ] # To remove one row whose class value was \"https://t.co/sbSljdw1Zw\"\n",
    "    df['Class'] = df['Class'].astype('int') # Converting class column to int data type\n",
    "    df['text_len'] = [len(i) for i in df['Text']] # Creating New Column for the length of Each Text\n",
    "    return df\n",
    "\n",
    "def dataset_info(df):\n",
    "    ls = df['Class'].value_counts()\n",
    "    print('Number of Zero Class = %d'%(ls[0])) # Output number of Classes with value=0\n",
    "    print('Number of One Class = %d'%(ls[1])) # Output number of Classes with value=1\n",
    "    \n",
    "    tmp = df['text_len'].agg(['min', 'max', 'mean', 'std']) # Output some analysis for the length of the text\n",
    "    print('Minimum Text Length = %d'%(tmp[0]))\n",
    "    print('Maximum Text Length = %d'%(tmp[1]))\n",
    "    print('Mean Text Length = %d'%(tmp[2]))\n",
    "    print('Standard Deviation of Text Length = %d'%(tmp[3]))\n",
    "    \n",
    "def clean_txt(text):\n",
    "    soup = BeautifulSoup(unescape(text), 'html.parser') # Some Text contain symbols like &amp, so this means we have to convert it to text first.\n",
    "    souped_text = emoji.demojize(soup.text) # Some Text also contains emojis. So replacing emoji with their names.\n",
    "    souped_text = souped_text.encode(\"ascii\", \"ignore\") # Some Text also contains sybols like \"â€\". So these needed to be converted to ascii values. \n",
    "    souped_text = souped_text.decode(\"utf-8\") # Now converting text from byte to string.\n",
    "    \n",
    "    text_sub = re.sub('@[A-Za-z0-9]+', '', souped_text) # Removing @Somename from the Text.\n",
    "    text_sub = re.sub('https?://[A-Za-z0-9.//]+', '', text_sub) # Removing http liks from the text like \"https://t.co/tpihRwhkpP\"\n",
    "    text_sub = re.sub('www.[^ ]+', '', text_sub) # Removing website adress from the text\n",
    "    text_sub = re.sub('[:]', ' ', text_sub) # Replacing \":\" with \" \"\n",
    "    text_sub = re.sub('[_]', '', text_sub) # Removing \"_\"\n",
    "    text_sub = re.sub('[^a-zA-Z ]', '', text_sub) # Keeping the words which containg only alphabets.\n",
    "    \n",
    "    clean_text_1 = text_sub.lower() # Convert Text to lowercase\n",
    "    tok = WordPunctTokenizer()\n",
    "    words = tok.tokenize(clean_text_1) \n",
    "    wl = WordNetLemmatizer()\n",
    "    words = [wl.lemmatize(word) for word in words] # Lemmatization of each word in the text\n",
    "    words = [word for word in words if word not in stopwords.words('english')] # Removing the Stopwords\n",
    "    clean_text = ' '.join(words).strip() \n",
    "    return clean_text\n",
    "    \n",
    "def df_sequence(df):\n",
    "    cleaned_text = []\n",
    "    for i,text in zip(trange(df.shape[0]), df['Text']):\n",
    "        cleaned_text.append(clean_txt(text))\n",
    "    df['clean_text'] = cleaned_text\n",
    "\n",
    "    t = Tokenizer(num_words=vocab_size)\n",
    "    t.fit_on_texts(df['clean_text'])\n",
    "    X = t.texts_to_sequences(df['clean_text']) # Converting Text to sequence\n",
    "    x = pad_sequences(X, maxlen=max_len, padding='pre') # Adding padding to sequence so that each of them is of same length\n",
    "    return x, np.array(df['Class'])"
   ]
  },
  {
   "cell_type": "code",
   "execution_count": 5,
   "metadata": {},
   "outputs": [],
   "source": [
    "# Preprocess The Dataframe using the above functions\n",
    "def preprocess(df):\n",
    "    df = dataset_clean(df)\n",
    "    dataset_info(df)\n",
    "    X, y = df_sequence(df)\n",
    "    return X, y"
   ]
  },
  {
   "cell_type": "code",
   "execution_count": 6,
   "metadata": {},
   "outputs": [
    {
     "name": "stderr",
     "output_type": "stream",
     "text": [
      "  0%|                                                                                        | 0/86460 [00:00<?, ?it/s]"
     ]
    },
    {
     "name": "stdout",
     "output_type": "stream",
     "text": [
      "Number of Zero Class = 44392\n",
      "Number of One Class = 42068\n",
      "Minimum Text Length = 1\n",
      "Maximum Text Length = 166\n",
      "Mean Text Length = 129\n",
      "Standard Deviation of Text Length = 22\n"
     ]
    },
    {
     "name": "stderr",
     "output_type": "stream",
     "text": [
      "100%|███████████████████████████████████████████████████████████████████████████| 86460/86460 [07:27<00:00, 193.25it/s]\n"
     ]
    }
   ],
   "source": [
    "X, y = preprocess(df)"
   ]
  },
  {
   "cell_type": "code",
   "execution_count": 7,
   "metadata": {},
   "outputs": [
    {
     "data": {
      "text/plain": [
       "((86460, 50), (86460,))"
      ]
     },
     "execution_count": 7,
     "metadata": {},
     "output_type": "execute_result"
    }
   ],
   "source": [
    "X.shape, y.shape"
   ]
  },
  {
   "cell_type": "code",
   "execution_count": 8,
   "metadata": {},
   "outputs": [
    {
     "data": {
      "text/plain": [
       "((69168, 50), (8646, 50), (8646, 50))"
      ]
     },
     "execution_count": 8,
     "metadata": {},
     "output_type": "execute_result"
    }
   ],
   "source": [
    "from sklearn.model_selection import train_test_split\n",
    "\n",
    "X_train, X_test, y_train, y_test = train_test_split(X, y, test_size=0.2, random_state=7)\n",
    "X_val, X_test, y_val, y_test = train_test_split(X_test, y_test, test_size=0.5, random_state=7)\n",
    "X_train.shape, X_val.shape, X_test.shape"
   ]
  },
  {
   "cell_type": "code",
   "execution_count": 9,
   "metadata": {},
   "outputs": [
    {
     "data": {
      "text/plain": [
       "(33616, 4271, 4181)"
      ]
     },
     "execution_count": 9,
     "metadata": {},
     "output_type": "execute_result"
    }
   ],
   "source": [
    "y_train.sum(), y_val.sum(), y_test.sum()"
   ]
  },
  {
   "cell_type": "code",
   "execution_count": null,
   "metadata": {},
   "outputs": [],
   "source": []
  },
  {
   "cell_type": "code",
   "execution_count": 10,
   "metadata": {},
   "outputs": [
    {
     "name": "stdout",
     "output_type": "stream",
     "text": [
      "Model: \"sequential\"\n",
      "_________________________________________________________________\n",
      "Layer (type)                 Output Shape              Param #   \n",
      "=================================================================\n",
      "embedding (Embedding)        (None, 50, 32)            320000    \n",
      "_________________________________________________________________\n",
      "conv1d (Conv1D)              (None, 50, 32)            32800     \n",
      "_________________________________________________________________\n",
      "max_pooling1d (MaxPooling1D) (None, 25, 32)            0         \n",
      "_________________________________________________________________\n",
      "bidirectional (Bidirectional (None, 25, 512)           591872    \n",
      "_________________________________________________________________\n",
      "dropout (Dropout)            (None, 25, 512)           0         \n",
      "_________________________________________________________________\n",
      "bidirectional_1 (Bidirection (None, 512)               1574912   \n",
      "_________________________________________________________________\n",
      "dropout_1 (Dropout)          (None, 512)               0         \n",
      "_________________________________________________________________\n",
      "dense (Dense)                (None, 1024)              525312    \n",
      "_________________________________________________________________\n",
      "dropout_2 (Dropout)          (None, 1024)              0         \n",
      "_________________________________________________________________\n",
      "dense_1 (Dense)              (None, 512)               524800    \n",
      "_________________________________________________________________\n",
      "dropout_3 (Dropout)          (None, 512)               0         \n",
      "_________________________________________________________________\n",
      "dense_2 (Dense)              (None, 1)                 513       \n",
      "=================================================================\n",
      "Total params: 3,570,209\n",
      "Trainable params: 3,570,209\n",
      "Non-trainable params: 0\n",
      "_________________________________________________________________\n",
      "None\n"
     ]
    }
   ],
   "source": [
    "from tensorflow.keras.models import Sequential\n",
    "from tensorflow.keras.layers import *\n",
    "from tensorflow.keras.utils import plot_model\n",
    "\n",
    "model = Sequential()\n",
    "model.add(Embedding(vocab_size, 32, input_length=max_len, embeddings_initializer='he_uniform'))\n",
    "model.add(Conv1D(filters=32, kernel_size=32, padding='same', activation='relu', kernel_initializer='he_uniform'))\n",
    "model.add(MaxPooling1D(pool_size=2))\n",
    "model.add(Bidirectional(LSTM(256, return_sequences=True, kernel_initializer='he_uniform')))\n",
    "model.add(Dropout(0.5))\n",
    "model.add(Bidirectional(LSTM(256, kernel_initializer='he_uniform')))\n",
    "model.add(Dropout(0.5))\n",
    "model.add(Dense(1024, activation='relu', kernel_initializer='he_uniform'))\n",
    "model.add(Dropout(0.5))\n",
    "model.add(Dense(512, activation='relu', kernel_initializer='he_uniform'))\n",
    "model.add(Dropout(0.5))\n",
    "model.add(Dense(1, activation='sigmoid'))\n",
    "\n",
    "plot_model(model, to_file='model.png', show_shapes=True, dpi=300)\n",
    "\n",
    "print(model.summary())"
   ]
  },
  {
   "cell_type": "code",
   "execution_count": 11,
   "metadata": {},
   "outputs": [],
   "source": [
    "import tensorflow_addons as tfa\n",
    "\n",
    "model.compile(loss='binary_crossentropy', optimizer='adam', metrics=['accuracy', tfa.metrics.F1Score(num_classes=1)])"
   ]
  },
  {
   "cell_type": "code",
   "execution_count": 12,
   "metadata": {},
   "outputs": [
    {
     "name": "stdout",
     "output_type": "stream",
     "text": [
      "Epoch 1/2\n",
      "136/136 [==============================] - 292s 2s/step - loss: 0.5940 - accuracy: 0.6510 - f1_score: 0.6541 - val_loss: 0.4955 - val_accuracy: 0.7420 - val_f1_score: 0.6613\n",
      "Epoch 2/2\n",
      "136/136 [==============================] - 308s 2s/step - loss: 0.4367 - accuracy: 0.7890 - f1_score: 0.6541 - val_loss: 0.4916 - val_accuracy: 0.7554 - val_f1_score: 0.6613\n"
     ]
    },
    {
     "data": {
      "text/plain": [
       "<tensorflow.python.keras.callbacks.History at 0x212ee478d88>"
      ]
     },
     "execution_count": 12,
     "metadata": {},
     "output_type": "execute_result"
    }
   ],
   "source": [
    "model.fit(X_train, y_train, epochs=2, batch_size=512, validation_data=(X_val, y_val))"
   ]
  },
  {
   "cell_type": "code",
   "execution_count": 13,
   "metadata": {},
   "outputs": [],
   "source": [
    "def report(X, y_true):\n",
    "    y_pred = model.predict_classes(X)\n",
    "    print(classification_report(y_pred, y_true))\n",
    "    \n",
    "    arr = confusion_matrix(y_pred, y_true)\n",
    "    sns.heatmap(arr, annot=True, fmt='d')\n",
    "    \n",
    "    print('Matthews Correleation Coeficient = %f'%(matthews_corrcoef(y_pred, y_true)))"
   ]
  },
  {
   "cell_type": "code",
   "execution_count": 14,
   "metadata": {},
   "outputs": [
    {
     "name": "stdout",
     "output_type": "stream",
     "text": [
      "WARNING:tensorflow:From <ipython-input-13-db191c0d6b71>:2: Sequential.predict_classes (from tensorflow.python.keras.engine.sequential) is deprecated and will be removed after 2021-01-01.\n",
      "Instructions for updating:\n",
      "Please use instead:* `np.argmax(model.predict(x), axis=-1)`,   if your model does multi-class classification   (e.g. if it uses a `softmax` last-layer activation).* `(model.predict(x) > 0.5).astype(\"int32\")`,   if your model does binary classification   (e.g. if it uses a `sigmoid` last-layer activation).\n",
      "              precision    recall  f1-score   support\n",
      "\n",
      "           0       0.94      0.83      0.88     40062\n",
      "           1       0.80      0.92      0.86     29106\n",
      "\n",
      "    accuracy                           0.87     69168\n",
      "   macro avg       0.87      0.88      0.87     69168\n",
      "weighted avg       0.88      0.87      0.87     69168\n",
      "\n",
      "Matthews Correleation Coeficient = 0.744907\n"
     ]
    },
    {
     "data": {
      "image/png": "[encoded data removed]",
      "text/plain": [
       "<Figure size 432x288 with 2 Axes>"
      ]
     },
     "metadata": {
      "needs_background": "light"
     },
     "output_type": "display_data"
    }
   ],
   "source": [
    "# Report for Training Set\n",
    "report(X_train, y_train)"
   ]
  },
  {
   "cell_type": "code",
   "execution_count": null,
   "metadata": {},
   "outputs": [],
   "source": []
  },
  {
   "cell_type": "code",
   "execution_count": 15,
   "metadata": {},
   "outputs": [
    {
     "name": "stdout",
     "output_type": "stream",
     "text": [
      "              precision    recall  f1-score   support\n",
      "\n",
      "           0       0.84      0.72      0.78      5130\n",
      "           1       0.66      0.81      0.73      3516\n",
      "\n",
      "    accuracy                           0.76      8646\n",
      "   macro avg       0.75      0.76      0.75      8646\n",
      "weighted avg       0.77      0.76      0.76      8646\n",
      "\n",
      "Matthews Correleation Coeficient = 0.517647\n"
     ]
    },
    {
     "data": {
      "image/png": "[encoded data removed]",
      "text/plain": [
       "<Figure size 432x288 with 2 Axes>"
      ]
     },
     "metadata": {
      "needs_background": "light"
     },
     "output_type": "display_data"
    }
   ],
   "source": [
    "# Report for Validation Set\n",
    "report(X_val, y_val)"
   ]
  },
  {
   "cell_type": "code",
   "execution_count": null,
   "metadata": {},
   "outputs": [],
   "source": []
  },
  {
   "cell_type": "code",
   "execution_count": 16,
   "metadata": {},
   "outputs": [
    {
     "name": "stdout",
     "output_type": "stream",
     "text": [
      "              precision    recall  f1-score   support\n",
      "\n",
      "           0       0.84      0.72      0.77      5209\n",
      "           1       0.65      0.79      0.71      3437\n",
      "\n",
      "    accuracy                           0.75      8646\n",
      "   macro avg       0.74      0.75      0.74      8646\n",
      "weighted avg       0.76      0.75      0.75      8646\n",
      "\n",
      "Matthews Correleation Coeficient = 0.494188\n"
     ]
    },
    {
     "data": {
      "image/png": "[encoded data removed]",
      "text/plain": [
       "<Figure size 432x288 with 2 Axes>"
      ]
     },
     "metadata": {
      "needs_background": "light"
     },
     "output_type": "display_data"
    }
   ],
   "source": [
    "# Report for Test Set\n",
    "report(X_test, y_test)"
   ]
  },
  {
   "cell_type": "code",
   "execution_count": null,
   "metadata": {},
   "outputs": [],
   "source": []
  }
 ],
 "metadata": {
  "kernelspec": {
   "display_name": "Python 3",
   "language": "python",
   "name": "python3"
  },
  "language_info": {
   "codemirror_mode": {
    "name": "ipython",
    "version": 3
   },
   "file_extension": ".py",
   "mimetype": "text/x-python",
   "name": "python",
   "nbconvert_exporter": "python",
   "pygments_lexer": "ipython3",
   "version": "3.7.7"
  }
 },
 "nbformat": 4,
 "nbformat_minor": 4
}
